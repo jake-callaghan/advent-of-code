{
 "cells": [
  {
   "cell_type": "code",
   "execution_count": null,
   "outputs": [],
   "source": [
    "from __future__ import annotations\n",
    "\n",
    "INPUT_DIR = '../resources/'\n",
    "\n",
    "def readfile(filename: str) -> [str]:\n",
    "    with open(INPUT_DIR + filename, 'r') as file:\n",
    "        return [line.strip() for line in file]"
   ],
   "metadata": {
    "collapsed": false
   },
   "id": "d1479eae8611bbf2"
  },
  {
   "cell_type": "markdown",
   "source": [
    "***"
   ],
   "metadata": {
    "collapsed": false
   },
   "id": "30ebcf28b6b74eae"
  },
  {
   "cell_type": "markdown",
   "id": "1b40c222",
   "metadata": {},
   "source": [
    "# Day One"
   ]
  },
  {
   "cell_type": "code",
   "execution_count": null,
   "id": "963cfa3f-98bd-418d-8e83-8669596c76b8",
   "metadata": {},
   "outputs": [],
   "source": [
    "sorted_gnomes = []\n",
    "current = 0\n",
    "for line in readfile('day1.txt'):\n",
    "    if line == '':\n",
    "        sorted_gnomes.append(current)\n",
    "        current = 0\n",
    "    else:\n",
    "        current += int(line)\n",
    "sorted_gnomes.sort()"
   ]
  },
  {
   "cell_type": "code",
   "execution_count": null,
   "id": "6be0f56d",
   "metadata": {},
   "outputs": [],
   "source": [
    "# part 1\n",
    "print(sorted_gnomes[-1])"
   ]
  },
  {
   "cell_type": "code",
   "execution_count": null,
   "id": "48dbb31c",
   "metadata": {},
   "outputs": [],
   "source": [
    "# part 2\n",
    "print(sum(sorted_gnomes[-3:]))"
   ]
  },
  {
   "cell_type": "markdown",
   "id": "0a3a95f2",
   "metadata": {},
   "source": [
    "***"
   ]
  },
  {
   "cell_type": "markdown",
   "source": [
    "# Day Two"
   ],
   "metadata": {
    "collapsed": false
   },
   "id": "2a98e8af88adc7cd"
  },
  {
   "cell_type": "code",
   "execution_count": null,
   "outputs": [],
   "source": [
    "themMap = {'A':'X', 'B':'Y', 'C':'Z'}\n",
    "\n",
    "def score(them, us):\n",
    "    if them == us: # draw\n",
    "        return 3 + (1 if us == 'X' else 2 if us == 'Y' else 3)\n",
    "    if them == 'X':\n",
    "        return 8 if us == 'Y' else 3\n",
    "    if them == 'Y':\n",
    "        return 9 if us == 'Z' else 1\n",
    "    if them == 'Z':\n",
    "        return 7 if us == 'X' else 2\n",
    "\n",
    "rounds = readfile('day2.txt')"
   ],
   "metadata": {
    "collapsed": false
   },
   "id": "9d9ba1569e437a35"
  },
  {
   "cell_type": "code",
   "execution_count": null,
   "outputs": [],
   "source": [
    "# part one\n",
    "total = 0\n",
    "for r in rounds:\n",
    "    total += score(themMap[r[0]], r[2])\n",
    "total"
   ],
   "metadata": {
    "collapsed": false
   },
   "id": "c4027910624d9b55"
  },
  {
   "cell_type": "code",
   "execution_count": null,
   "outputs": [],
   "source": [
    "# part 2\n",
    "def winLoseDraw(instr, themC):\n",
    "    if instr == 'Z': # win\n",
    "        return 'X' if themC == 'Z' else 'Y' if themC == 'X' else 'Z'\n",
    "    if instr == 'X': # lose\n",
    "        return 'X' if themC == 'Y' else 'Y' if themC == 'Z' else 'Z'\n",
    "    return themC # draw\n",
    "\n",
    "total2 = 0\n",
    "for r in rounds:\n",
    "    them = themMap[r[0]]\n",
    "    total2 += score(them, winLoseDraw(r[2], them))\n",
    "\n",
    "total2"
   ],
   "metadata": {
    "collapsed": false
   },
   "id": "90bf19c567f9783b"
  },
  {
   "cell_type": "markdown",
   "source": [
    "***\n",
    "# Day Three"
   ],
   "metadata": {
    "collapsed": false
   },
   "id": "d8c7da1dfe7147e7"
  },
  {
   "cell_type": "code",
   "execution_count": null,
   "outputs": [],
   "source": [
    "import string\n",
    "\n",
    "bags = readfile('day3.txt')\n",
    "priorities = {}\n",
    "priority = 1\n",
    "for c in string.ascii_lowercase + string.ascii_uppercase:\n",
    "    priorities[c] = priority\n",
    "    priority += 1"
   ],
   "metadata": {
    "collapsed": false
   },
   "id": "f18b2c7339135efd"
  },
  {
   "cell_type": "code",
   "execution_count": null,
   "outputs": [],
   "source": [
    "# part 1\n",
    "total = 0\n",
    "for bag in bags:\n",
    "    mid = int(len(bag)/2)\n",
    "    (left,right) = ({c for c in bag[:mid]}, {c for c in bag[mid:]})\n",
    "    i = left.intersection(right)\n",
    "    # should be just 1 element\n",
    "    for c in left.intersection(right):\n",
    "        total += priorities[c]\n",
    "\n",
    "total"
   ],
   "metadata": {
    "collapsed": false
   },
   "id": "98ed24cbf8a5561d"
  },
  {
   "cell_type": "code",
   "execution_count": null,
   "outputs": [],
   "source": [
    "# part two\n",
    "current = 0\n",
    "total = 0\n",
    "bagsN = len(bags)\n",
    "while current < bagsN-2:\n",
    "    group = [{c for c in bags[current+i]} for i in [0,1,2]]\n",
    "    for c in group[0].intersection(group[1], group[2]):\n",
    "        total += priorities[c]\n",
    "    current += 3\n",
    "\n",
    "total"
   ],
   "metadata": {
    "collapsed": false
   },
   "id": "7ccc759e452e87fd"
  },
  {
   "cell_type": "markdown",
   "source": [
    "***\n",
    "# Day Four"
   ],
   "metadata": {
    "collapsed": false
   },
   "id": "1abd692330d4a6db"
  },
  {
   "cell_type": "code",
   "execution_count": null,
   "outputs": [],
   "source": [
    "input = readfile('day4.txt')\n",
    "\n",
    "def parse_line(line):\n",
    "    xs = line.split(',')\n",
    "    xs1, xs2 = xs[0].split('-'), xs[1].split('-')\n",
    "    return (int(xs1[0]), int(xs1[1])), (int(xs2[0]), int(xs2[1]))\n",
    "\n",
    "sections = list(map(parse_line, input))"
   ],
   "metadata": {
    "collapsed": false
   },
   "id": "bbf15700051ece8f"
  },
  {
   "cell_type": "code",
   "execution_count": null,
   "outputs": [],
   "source": [
    "# part 1\n",
    "count = 0\n",
    "for first, second in sections:\n",
    "    if (first[0] >= second[0] and first[1] <= second[1]) or (second[0] >= first[0] and second[1] <= first[1]):\n",
    "        count += 1\n",
    "count"
   ],
   "metadata": {
    "collapsed": false
   },
   "id": "ae07c83debb0d848"
  },
  {
   "cell_type": "code",
   "execution_count": null,
   "outputs": [],
   "source": [
    "# part 2\n",
    "count = 0\n",
    "for first, second in sections:\n",
    "    if (second[0] <= first[0] <= second[1]) or (second[0] <= first[0] <= second[1]) or (first[0] <= second[0] <= first[1]) or (first[0] <= second[1] <= first[1]):\n",
    "        count += 1\n",
    "count"
   ],
   "metadata": {
    "collapsed": false
   },
   "id": "7eafd259de846900"
  },
  {
   "cell_type": "markdown",
   "source": [
    "***\n",
    "# Day Five"
   ],
   "metadata": {
    "collapsed": false
   },
   "id": "53f3e86a8a253c6d"
  },
  {
   "cell_type": "code",
   "execution_count": null,
   "outputs": [],
   "source": [
    "stacks_str = '''\n",
    " , , , , , ,R,J,W\n",
    " , , ,R,N, ,T,T,C\n",
    "R, , ,P,G, ,J,P,T\n",
    "Q, ,C,M,V, ,F,F,H\n",
    "G,P,M,S,Z, ,Z,C,Q\n",
    "P,C,P,Q,J,J,P,H,Z\n",
    "C,T,H,T,H,P,G,L,V\n",
    "F,W,B,L,P,D,L,N,G\n",
    "'''\n",
    "\n",
    "# parse stacks\n",
    "stacks = {}\n",
    "for row in stacks_str.split('\\n'):\n",
    "    stack = 1\n",
    "    for col in row.split(','):\n",
    "        if col != ' ' and col != '':\n",
    "            if stack not in stacks:\n",
    "                stacks[stack] = []\n",
    "            stacks[stack].insert(0,col) # build stack 'backwards' so last elem is top\n",
    "        stack += 1\n",
    "\n",
    "def read(line):\n",
    "    # move 2 from 2 to 8 -> (2,2,8)\n",
    "    xs = line.split(' ')\n",
    "    return int(xs[1]), int(xs[3]), int(xs[5])\n",
    "\n",
    "# parse instructions\n",
    "instructions = [read(line) for line in readfile('day5.txt')]"
   ],
   "metadata": {
    "collapsed": false
   },
   "id": "549ac2c7bb818d19"
  },
  {
   "cell_type": "code",
   "execution_count": null,
   "outputs": [],
   "source": [
    "import copy\n",
    "# part one\n",
    "stacks_c = copy.deepcopy(stacks)\n",
    "for i in instructions:\n",
    "    n, fromStack, toStack = i[0], stacks_c[i[1]], stacks_c[i[2]]\n",
    "    for box in range (0,n):\n",
    "        toStack.append(fromStack.pop())\n",
    "\n",
    "print([stacks_c[i][-1] for i in range(1,10)])"
   ],
   "metadata": {
    "collapsed": false
   },
   "id": "4565f35879d30969"
  },
  {
   "cell_type": "code",
   "execution_count": null,
   "outputs": [],
   "source": [
    "# part two\n",
    "stacks_c2 = copy.deepcopy(stacks)\n",
    "for i in instructions:\n",
    "    n, fromStack, toStack = i[0], stacks_c2[i[1]], stacks_c2[i[2]]\n",
    "    toStack.extend(fromStack[-n:])\n",
    "    stacks_c2[i[1]] = fromStack[0:-n]\n",
    "\n",
    "print([stacks_c2[i][-1] for i in range(1,10)])"
   ],
   "metadata": {
    "collapsed": false
   },
   "id": "17519fb2e1934562"
  },
  {
   "cell_type": "markdown",
   "source": [
    "***\n",
    "# Day 6"
   ],
   "metadata": {
    "collapsed": false
   },
   "id": "85c320222a787d55"
  },
  {
   "cell_type": "code",
   "execution_count": null,
   "outputs": [],
   "source": [
    "input = readfile('day6.txt')[0]"
   ],
   "metadata": {
    "collapsed": false
   },
   "id": "aa3f79fd1cd6169a"
  },
  {
   "cell_type": "code",
   "execution_count": null,
   "outputs": [],
   "source": [
    "def day6(N):\n",
    "    n = N\n",
    "    while n <= len(input):\n",
    "        if len({x for x in input[n-N:n]}) == N:\n",
    "            return n\n",
    "        n += 1"
   ],
   "metadata": {
    "collapsed": false
   },
   "id": "4307718db28e2448"
  },
  {
   "cell_type": "code",
   "execution_count": null,
   "outputs": [],
   "source": [
    "# part one\n",
    "day6(4)"
   ],
   "metadata": {
    "collapsed": false
   },
   "id": "715fc0b7a34f0049"
  },
  {
   "cell_type": "code",
   "execution_count": null,
   "outputs": [],
   "source": [
    "# part two\n",
    "day6(14)"
   ],
   "metadata": {
    "collapsed": false
   },
   "id": "ac0900ef55fb94e0"
  },
  {
   "cell_type": "markdown",
   "source": [
    "***\n",
    "# Day 7"
   ],
   "metadata": {
    "collapsed": false
   },
   "id": "617dcb3b32bec53d"
  },
  {
   "cell_type": "code",
   "execution_count": null,
   "outputs": [],
   "source": [
    "import re\n",
    "input = readfile('day7.txt')\n",
    "\n",
    "class SystemObject(object):\n",
    "    name: str\n",
    "    size: int = 0\n",
    "    file: bool = True\n",
    "\n",
    "    def __init__(self, name, size):\n",
    "        self.name = name\n",
    "        self.size = size\n",
    "\n",
    "class Directory(SystemObject):\n",
    "    parent: Directory\n",
    "    contents: {str, SystemObject}\n",
    "\n",
    "    def __init__(self, name, size, parent, contents):\n",
    "        super().__init__(name, size)\n",
    "        self.parent = parent\n",
    "        self.contents = contents\n",
    "        self.file = False\n",
    "\n",
    "    def set_parent(self, dir: Directory):\n",
    "        self.parent = dir\n",
    "\n",
    "    def add_child(self, obj: SystemObject):\n",
    "        self.size += obj.size\n",
    "        self.contents[obj.name] = obj\n",
    "        if obj.size > 0 and obj.file:\n",
    "            self.__add_size__(obj.size)\n",
    "\n",
    "    def __add_size__(self, size):\n",
    "        # walk up the tree adding size of directory after adding a child object\n",
    "        p = self.parent\n",
    "        while p:\n",
    "            p.size += size\n",
    "            p = p.parent\n",
    "\n",
    "# parse input\n",
    "root = Directory('/', 0, None, {})\n",
    "inputStack = input.copy()\n",
    "inputStack.reverse()\n",
    "current_dir = root\n",
    "\n",
    "while inputStack:\n",
    "    line = inputStack.pop()\n",
    "    # change dir cmd\n",
    "    cd = re.search('\\$ cd (.*)', line)\n",
    "    if cd:\n",
    "        dir = cd.group(1)\n",
    "        if dir == '..':\n",
    "            current_dir = current_dir.parent\n",
    "        elif dir != current_dir.name: # dir name\n",
    "            current_dir = current_dir.contents[dir]\n",
    "        continue\n",
    "\n",
    "    # ls cmd\n",
    "    if line == '$ ls': # read current dir's contents\n",
    "            line = inputStack.pop() if inputStack else None\n",
    "            while line and line[0] != '$':\n",
    "                d = re.search('dir (.*)', line)\n",
    "                if d: # read dir\n",
    "                    d_name = d.group(1)\n",
    "                    if d_name not in current_dir.contents:\n",
    "                        current_dir.add_child(Directory(parent=current_dir, name=d_name, size=0, contents={}))\n",
    "                else: # read file\n",
    "                    xs = line.split(' ')\n",
    "                    size, name = int(xs[0]), xs[1]\n",
    "                    if name not in current_dir.contents:\n",
    "                        current_dir.add_child(SystemObject(name, size))\n",
    "                line = inputStack.pop() if inputStack else None\n",
    "\n",
    "            if line and line[0] == '$':\n",
    "                # push instruction back onto stack if cmd\n",
    "                inputStack.append(line)\n"
   ],
   "metadata": {
    "collapsed": false
   },
   "id": "d7467bacc1286af1"
  },
  {
   "cell_type": "code",
   "execution_count": null,
   "outputs": [],
   "source": [
    "# part one\n",
    "total = 0\n",
    "stack = [root]\n",
    "dir = None\n",
    "while stack:\n",
    "    dir = stack.pop()\n",
    "    if dir.size <= 100000:\n",
    "        total += dir.size\n",
    "    # search sub dirs\n",
    "    for sub_dir in dir.contents:\n",
    "        o = dir.contents[sub_dir]\n",
    "        if not o.file:\n",
    "            stack.append(o)\n",
    "total"
   ],
   "metadata": {
    "collapsed": false
   },
   "id": "d8c7803ab639df6d"
  },
  {
   "cell_type": "code",
   "execution_count": null,
   "outputs": [],
   "source": [
    "# part two\n",
    "min_space_required = 30000000 - (70000000 - root.size)\n",
    "min_dir_so_far = root.size\n",
    "stack = [root]\n",
    "while stack:\n",
    "    dir = stack.pop()\n",
    "    if dir.size >= min_space_required:\n",
    "        min_dir_so_far = min(min_dir_so_far, dir.size)\n",
    "    # search sub dirs\n",
    "    for sub_dir in dir.contents:\n",
    "        o = dir.contents[sub_dir]\n",
    "        if not o.file:\n",
    "            stack.append(o)\n",
    "\n",
    "min_dir_so_far"
   ],
   "metadata": {
    "collapsed": false
   },
   "id": "375d6425c88b7c78"
  },
  {
   "cell_type": "markdown",
   "source": [
    "***\n",
    "# Day 8"
   ],
   "metadata": {
    "collapsed": false
   },
   "id": "9db2e3c0d25bb036"
  },
  {
   "cell_type": "code",
   "execution_count": null,
   "outputs": [],
   "source": [
    "# trees[row][col] = tree at (row,col)\n",
    "trees = readfile('day8.txt')\n",
    "trees = [[int(t) for t in line] for line in trees]\n",
    "rows = len(trees)\n",
    "cols = len(trees[0])"
   ],
   "metadata": {
    "collapsed": false
   },
   "id": "ca75e89bd3850a65"
  },
  {
   "cell_type": "code",
   "execution_count": null,
   "outputs": [],
   "source": [
    "# part one\n",
    "def visible(row: int, col: int, grid) -> bool:\n",
    "    # on border?\n",
    "    if row == 0 or row == rows-1 or col == 0 or col == cols-1:\n",
    "        return True\n",
    "    h = grid[row][col]\n",
    "    for dr,dc in [(1,0), (-1,0), (0,1), (0,-1)]:\n",
    "        next_row, next_col = row + dr, col + dc\n",
    "        while True:\n",
    "            # reached the outside of the grid?\n",
    "            if not (0 <= next_row < rows and 0 <= next_col < cols):\n",
    "                return True\n",
    "            h_next = grid[next_row][next_col]\n",
    "            if h_next >= h: # higher or equal tree found on that path\n",
    "                break\n",
    "            # continue in that dir\n",
    "            next_row += dr\n",
    "            next_col += dc\n",
    "    return False\n",
    "\n",
    "count = 0\n",
    "for row in range(0,rows):\n",
    "    for col in range(0,cols):\n",
    "        if visible(row,col,trees):\n",
    "            count += 1\n",
    "\n",
    "count"
   ],
   "metadata": {
    "collapsed": false
   },
   "id": "555ca9d42a36c99f"
  },
  {
   "cell_type": "code",
   "execution_count": null,
   "outputs": [],
   "source": [
    "# part two\n",
    "def scenic_score(row: int, col: int, grid) -> int:\n",
    "    h = grid[row][col]\n",
    "    total = 1\n",
    "    for dr,dc in [(1,0), (-1,0), (0,1), (0,-1)]:\n",
    "        scenic = 0\n",
    "        next_row, next_col = row + dr, col + dc\n",
    "        while True:\n",
    "            # reached the outside of the grid?\n",
    "            if not (0 <= next_row < rows and 0 <= next_col < cols):\n",
    "                break\n",
    "\n",
    "            scenic += 1\n",
    "            h_next = grid[next_row][next_col]\n",
    "            if h_next >= h: # higher or equal tree found on that path\n",
    "                break\n",
    "            # continue in that dir\n",
    "            next_row += dr\n",
    "            next_col += dc\n",
    "        if scenic > 0:\n",
    "            total *= scenic\n",
    "    return total\n",
    "\n",
    "best_so_far = 0\n",
    "for row in range(0,rows):\n",
    "    for col in range(0,cols):\n",
    "        s = scenic_score(row, col, trees)\n",
    "        best_so_far = max(best_so_far, scenic_score(row,col,trees))\n",
    "\n",
    "best_so_far"
   ],
   "metadata": {
    "collapsed": false
   },
   "id": "c7dea9ce4481ab61"
  },
  {
   "cell_type": "markdown",
   "source": [
    "***\n",
    "# Day 9"
   ],
   "metadata": {
    "collapsed": false
   },
   "id": "cfd6f7d14bb6f957"
  },
  {
   "cell_type": "code",
   "execution_count": null,
   "outputs": [],
   "source": [
    "def day9input(file):\n",
    "    input = []\n",
    "    for line in readfile(file):\n",
    "        xs = line.split(' ')\n",
    "        input.append((xs[0], int(xs[1])))\n",
    "    return input"
   ],
   "metadata": {
    "collapsed": false
   },
   "id": "8dd365843f3bacaf"
  },
  {
   "cell_type": "code",
   "execution_count": null,
   "outputs": [],
   "source": [
    "# part one\n",
    "head = 0, 0\n",
    "tail = 0, 0\n",
    "tail_ps = {tail}\n",
    "\n",
    "def distant(h, t):\n",
    "    return abs(h[0]-t[0]) >= 2 or abs(h[1]-t[1]) >= 2\n",
    "\n",
    "def update(d):\n",
    "    global head, tail\n",
    "    dx, dy = 0, 1 # U\n",
    "    if d == 'D':\n",
    "        dx, dy = 0, -1\n",
    "    if d == 'L':\n",
    "        dx, dy = -1, 0\n",
    "    if d == 'R':\n",
    "        dx = 1, 0\n",
    "\n",
    "    head = (head[0]+dx, head[1]+dy)\n",
    "    if distant(head, tail):\n",
    "        tail = (tail[0]-dx, tail[1]-dy)\n",
    "        tail_ps.add(tail)\n",
    "\n",
    "\n",
    "def day9_partone(input):\n",
    "    global head, tail\n",
    "    for move in input:\n",
    "        d = move[0]\n",
    "        n = move[1]\n",
    "        for step in range(0,n):\n",
    "            update(d)\n",
    "    return len(tail_ps)"
   ],
   "metadata": {
    "collapsed": false
   },
   "id": "2050bb3b1be4803d"
  },
  {
   "cell_type": "code",
   "execution_count": null,
   "outputs": [],
   "source": [
    "# part one \n",
    "actual = day9input('day9.txt')\n",
    "day9_partone(actual)"
   ],
   "metadata": {
    "collapsed": false
   },
   "id": "889a2cf8c6875930"
  },
  {
   "cell_type": "code",
   "execution_count": null,
   "outputs": [],
   "source": [
    "# part two\n",
    "\n",
    "# rope[0] = head, rope[9] = tail\n",
    "rope = [(0,0) for x in range(0,10)]\n",
    "tail_ps = {(0,0)}\n",
    "\n",
    "\n",
    "for move in input:\n",
    "    d = move[0]\n",
    "    n = move[1]\n",
    "    if d == 'U':\n",
    "\n",
    "            # for step in range(0,n):\n",
    "            #     head = (head[0],head[1]+1)\n",
    "\n",
    "\n",
    "        # if d == 'D':\n",
    "        #     for step in range(0,n):\n",
    "        #         head = (head[0],head[1]-1)\n",
    "        #         if distant(head,tail):\n",
    "        #             tail = (head[0],head[1]+1)\n",
    "        #             tail_ps.add(tail)\n",
    "        #\n",
    "        # if d == 'L':\n",
    "        #     for step in range(0,n):\n",
    "        #         head = (head[0]-1,head[1])\n",
    "        #         if distant(head,tail):\n",
    "        #             tail = (head[0]+1,head[1])\n",
    "        #             tail_ps.add(tail)\n",
    "        #\n",
    "        # if d == 'R':\n",
    "        #     for step in range(0,n):\n",
    "        #         head = (head[0]+1,head[1])\n",
    "        #         if distant(head,tail):\n",
    "        #             tail = (head[0]-1,head[1])\n",
    "        #             tail_ps.add(tail)\n",
    "\n",
    "\n"
   ],
   "metadata": {
    "collapsed": false
   },
   "id": "f9448afe0d3fc00a"
  },
  {
   "cell_type": "markdown",
   "source": [
    "***\n",
    "# Day 10"
   ],
   "metadata": {
    "collapsed": false
   },
   "id": "f500962d0729e53f"
  },
  {
   "cell_type": "code",
   "execution_count": null,
   "outputs": [],
   "source": [
    "# part one\n",
    "cycles = [20, 60, 100, 140, 180, 220]\n",
    "sum = 0\n",
    "cycle = 1\n",
    "r1 = 1\n",
    "for i in readfile('day10.txt'):\n",
    "    if cycle in cycles:\n",
    "        sum += r1 * cycle\n",
    "    if i == 'noop':\n",
    "        cycle += 1\n",
    "    else:\n",
    "        n = int(i.split(' ')[1])\n",
    "        cycle += 1\n",
    "        if cycle in cycles:\n",
    "            sum += r1 * cycle\n",
    "        r1 += n\n",
    "        cycle += 1\n",
    "\n",
    "sum"
   ],
   "metadata": {
    "collapsed": false
   },
   "id": "73cc8c2f64d1d8d0"
  },
  {
   "cell_type": "code",
   "execution_count": null,
   "outputs": [],
   "source": [
    "# part two\n",
    "r1 = 1\n",
    "col = 0\n",
    "crt = ['','','','','','']\n",
    "\n",
    "def update_crt_line(c):\n",
    "    crt[c // 40] += '#' if r1-1 <= c % 40 <= r1+1 else ' '\n",
    "\n",
    "for i in readfile('day10.txt'):\n",
    "    update_crt_line(col)\n",
    "    col += 1\n",
    "    if i != 'noop':\n",
    "        n = int(i.split(' ')[1])\n",
    "        update_crt_line(col)\n",
    "        col += 1\n",
    "        r1 += n\n",
    "crt"
   ],
   "metadata": {
    "collapsed": false
   },
   "id": "e7092b2d6ac3f182"
  },
  {
   "cell_type": "markdown",
   "source": [
    "***\n",
    "# Day 11"
   ],
   "metadata": {
    "collapsed": false
   },
   "id": "b98851f095e6c1cc"
  },
  {
   "cell_type": "code",
   "execution_count": null,
   "outputs": [],
   "source": [
    "class Monkey:\n",
    "    id: int\n",
    "    items = []\n",
    "    operator = None\n",
    "    test = None\n",
    "    monkeyA = None\n",
    "    monkeyB = None\n",
    "    inspections = 0\n",
    "\n",
    "    def __init__(self, id, items, operator, test):\n",
    "        self.id = id\n",
    "        self.items = items\n",
    "        self.operator = operator\n",
    "        self.test = test\n",
    "\n",
    "    def set(self, a, b):\n",
    "        self.monkeyA = a\n",
    "        self.monkeyB = b\n",
    "\n",
    "    def round(self):\n",
    "        while self.items:\n",
    "            item = self.items.pop(0)\n",
    "            self.inspections += 1\n",
    "            item1 = self.operator(item)\n",
    "            item1 //= 3\n",
    "            if self.test(item1):\n",
    "                self.monkeyA.items.append(item1)\n",
    "            else:\n",
    "                self.monkeyB.items.append(item1)\n",
    "\n",
    "    def __str__(self):\n",
    "        return \"{} - {} - {}\".format(self.id, self.inspections, self.items)"
   ],
   "metadata": {
    "collapsed": false
   },
   "id": "611a5337288f1e35"
  },
  {
   "cell_type": "markdown",
   "source": [
    "example:\n",
    "Monkey 0:\n",
    "  Starting items: 79, 98\n",
    "  Operation: new = old * 19\n",
    "  Test: divisible by 23\n",
    "    If true: throw to monkey 2\n",
    "    If false: throw to monkey 3\n",
    "\n",
    "Monkey 1:\n",
    "  Starting items: 54, 65, 75, 74\n",
    "  Operation: new = old + 6\n",
    "  Test: divisible by 19\n",
    "    If true: throw to monkey 2\n",
    "    If false: throw to monkey 0\n",
    "\n",
    "Monkey 2:\n",
    "  Starting items: 79, 60, 97\n",
    "  Operation: new = old * old\n",
    "  Test: divisible by 13\n",
    "    If true: throw to monkey 1\n",
    "    If false: throw to monkey 3\n",
    "\n",
    "Monkey 3:\n",
    "  Starting items: 74\n",
    "  Operation: new = old + 3\n",
    "  Test: divisible by 17\n",
    "    If true: throw to monkey 0\n",
    "    If false: throw to monkey 1"
   ],
   "metadata": {
    "collapsed": false
   },
   "id": "574fe319d863b35b"
  },
  {
   "cell_type": "code",
   "execution_count": null,
   "outputs": [],
   "source": [
    "# part one example\n",
    "m0 = Monkey(0, [79,98], lambda x: x*19, lambda x: x % 23 == 0)\n",
    "m1 = Monkey(1, [54,65,75,74], lambda x: x+6, lambda x: x % 19 == 0)\n",
    "m2 = Monkey(2, [79, 60, 97], lambda x: x*x, lambda x: x % 13 == 0)\n",
    "m3 = Monkey(3, [74], lambda x: x+3, lambda x: x % 17 == 0)\n",
    "\n",
    "m0.monkeyA = m2\n",
    "m0.monkeyB = m3\n",
    "m1.monkeyA = m2\n",
    "m1.monkeyB = m0\n",
    "m2.monkeyA = m1\n",
    "m2.monkeyB = m3\n",
    "m3.monkeyA = m0\n",
    "m3.monkeyB = m1\n",
    "\n",
    "ms = [m0, m1, m2, m3]\n",
    "for i in range(0,20):\n",
    "    for m in ms:\n",
    "        m.round()\n",
    "\n",
    "for m in ms:\n",
    "    print(m)\n"
   ],
   "metadata": {
    "collapsed": false
   },
   "id": "bf058a93dac7294"
  },
  {
   "cell_type": "markdown",
   "source": [],
   "metadata": {
    "collapsed": false
   },
   "id": "446a9b31f7cca0ae"
  },
  {
   "cell_type": "markdown",
   "source": [
    "Monkey 0:\n",
    "  Starting items: 54, 98, 50, 94, 69, 62, 53, 85\n",
    "  Operation: new = old * 13\n",
    "  Test: divisible by 3\n",
    "    If true: throw to monkey 2\n",
    "    If false: throw to monkey 1\n",
    "\n",
    "Monkey 1:\n",
    "  Starting items: 71, 55, 82\n",
    "  Operation: new = old + 2\n",
    "  Test: divisible by 13\n",
    "    If true: throw to monkey 7\n",
    "    If false: throw to monkey 2\n",
    "\n",
    "Monkey 2:\n",
    "  Starting items: 77, 73, 86, 72, 87\n",
    "  Operation: new = old + 8\n",
    "  Test: divisible by 19\n",
    "    If true: throw to monkey 4\n",
    "    If false: throw to monkey 7\n",
    "\n",
    "Monkey 3:\n",
    "  Starting items: 97, 91\n",
    "  Operation: new = old + 1\n",
    "  Test: divisible by 17\n",
    "    If true: throw to monkey 6\n",
    "    If false: throw to monkey 5\n",
    "\n",
    "Monkey 4:\n",
    "  Starting items: 78, 97, 51, 85, 66, 63, 62\n",
    "  Operation: new = old * 17\n",
    "  Test: divisible by 5\n",
    "    If true: throw to monkey 6\n",
    "    If false: throw to monkey 3\n",
    "\n",
    "Monkey 5:\n",
    "  Starting items: 88\n",
    "  Operation: new = old + 3\n",
    "  Test: divisible by 7\n",
    "    If true: throw to monkey 1\n",
    "    If false: throw to monkey 0\n",
    "\n",
    "Monkey 6:\n",
    "  Starting items: 87, 57, 63, 86, 87, 53\n",
    "  Operation: new = old * old\n",
    "  Test: divisible by 11\n",
    "    If true: throw to monkey 5\n",
    "    If false: throw to monkey 0\n",
    "\n",
    "Monkey 7:\n",
    "  Starting items: 73, 59, 82, 65\n",
    "  Operation: new = old + 6\n",
    "  Test: divisible by 2\n",
    "    If true: throw to monkey 4\n",
    "    If false: throw to monkey 3"
   ],
   "metadata": {
    "collapsed": false
   },
   "id": "66c66c4a4ff92714"
  },
  {
   "cell_type": "code",
   "execution_count": null,
   "outputs": [],
   "source": [
    "# part one\n",
    "m0 = Monkey(0, [54, 98, 50, 94, 69, 62, 53, 85], lambda x: x*13, lambda x: x % 3 == 0)\n",
    "m1 = Monkey(1, [71, 55, 82], lambda x: x+2, lambda x: x % 13 ==0)\n",
    "m2 = Monkey(2, [77, 73, 86, 72, 87], lambda x: x+8, lambda x: x%19 ==0)\n",
    "m3 = Monkey(3, [97, 91], lambda x:x+1, lambda x: x%17==0)\n",
    "m4 = Monkey(4, [78, 97, 51, 85, 66, 63, 62], lambda x: x*17, lambda x: x%5==0)\n",
    "m5 = Monkey(5, [88], lambda x: x+3, lambda x: x%7==0)\n",
    "m6 = Monkey(6, [87, 57, 63, 86, 87, 53], lambda x: x*x, lambda x: x%11==0)\n",
    "m7 = Monkey(7, [73, 59, 82, 65], lambda x: x+6, lambda x: x%2==0)\n",
    "\n",
    "m0.set(m2, m1)\n",
    "m1.set(m7, m2)\n",
    "m2.set(m4, m7)\n",
    "m3.set(m6, m5)\n",
    "m4.set(m6, m3)\n",
    "m5.set(m1, m0)\n",
    "m6.set(m5, m0)\n",
    "m7.set(m4, m3)\n",
    "\n",
    "ms = [m0, m1, m2, m3, m4, m5, m6, m7]\n",
    "for i in range(0,20):\n",
    "    for m in ms:\n",
    "        m.round()\n",
    "\n",
    "for m in ms:\n",
    "    print(m)\n"
   ],
   "metadata": {
    "collapsed": false
   },
   "id": "b32305d4c63e4c53"
  },
  {
   "cell_type": "code",
   "execution_count": null,
   "outputs": [],
   "source": [
    "333*337"
   ],
   "metadata": {
    "collapsed": false
   },
   "id": "54a247aa3ca2c829"
  },
  {
   "cell_type": "code",
   "execution_count": null,
   "outputs": [],
   "source": [
    "# part two\n",
    "rounds = 10000\n",
    "\n",
    "\n",
    "class Monkey2(Monkey):\n",
    "\n",
    "    reduction = None\n",
    "\n",
    "    def __init__(self, id, items, operator, test, reduction):\n",
    "        super(Monkey2,self).__init__(id, items, operator, test)\n",
    "        self.reduction = reduction\n",
    "\n",
    "    def round(self):\n",
    "        while self.items:\n",
    "            item = self.items.pop(0)\n",
    "            self.inspections += 1\n",
    "            item1 = self.operator(item)\n",
    "            item1 = self.reduction(item1)\n",
    "            if self.test(item1):\n",
    "                self.monkeyA.items.append(item1)\n",
    "            else:\n",
    "                self.monkeyB.items.append(item1)\n",
    "\n",
    "\n",
    "m0 = Monkey2(0, [54, 98, 50, 94, 69, 62, 53, 85], lambda x: x*13, lambda x: x % 3 == 0)\n",
    "m1 = Monkey2(1, [71, 55, 82], lambda x: x+2, lambda x: x % 13 ==0)\n",
    "m2 = Monkey2(2, [77, 73, 86, 72, 87], lambda x: x+8, lambda x: x%19 ==0)\n",
    "m3 = Monkey2(3, [97, 91], lambda x:x+1, lambda x: x%17==0)\n",
    "m4 = Monkey2(4, [78, 97, 51, 85, 66, 63, 62], lambda x: x*17, lambda x: x%5==0)\n",
    "m5 = Monkey2(5, [88], lambda x: x+3, lambda x: x%7==0)\n",
    "m6 = Monkey2(6, [87, 57, 63, 86, 87, 53], lambda x: x*x, lambda x: x%11==0)\n",
    "m7 = Monkey2(7, [73, 59, 82, 65], lambda x: x+6, lambda x: x%2==0)\n",
    "\n",
    "m0.set(m2, m1)\n",
    "m1.set(m7, m2)\n",
    "m2.set(m4, m7)\n",
    "m3.set(m6, m5)\n",
    "m4.set(m6, m3)\n",
    "m5.set(m1, m0)\n",
    "m6.set(m5, m0)\n",
    "m7.set(m4, m3)\n",
    "\n",
    "ms = [m0, m1, m2, m3, m4, m5, m6, m7]\n",
    "for i in range(0,rounds):\n",
    "    for m in ms:\n",
    "        m.round()\n",
    "\n",
    "for m in ms:\n",
    "    print(m)\n"
   ],
   "metadata": {
    "collapsed": false
   },
   "id": "2689dfdf06b418f1"
  },
  {
   "cell_type": "code",
   "execution_count": null,
   "outputs": [],
   "source": [
    "inspections = [m.inspections for m in ms]"
   ],
   "metadata": {
    "collapsed": false
   },
   "id": "bce9a423cd759d69"
  },
  {
   "cell_type": "code",
   "execution_count": null,
   "outputs": [],
   "source": [
    "inspections.sort()\n",
    "inspections[-1] * inspections[-2]"
   ],
   "metadata": {
    "collapsed": false
   },
   "id": "4ea4e426c5abd28e"
  },
  {
   "cell_type": "code",
   "execution_count": null,
   "outputs": [],
   "source": [],
   "metadata": {
    "collapsed": false
   },
   "id": "46f47fb6f93e948d"
  }
 ],
 "metadata": {
  "kernelspec": {
   "name": "conda-env-jupyter-py",
   "language": "python",
   "display_name": "Python [conda env:jupyter] *"
  },
  "language_info": {
   "codemirror_mode": {
    "name": "ipython",
    "version": 3
   },
   "file_extension": ".py",
   "mimetype": "text/x-python",
   "name": "python",
   "nbconvert_exporter": "python",
   "pygments_lexer": "ipython3",
   "version": "3.9.6"
  }
 },
 "nbformat": 4,
 "nbformat_minor": 5
}
